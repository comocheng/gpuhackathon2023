{
 "cells": [
  {
   "cell_type": "markdown",
   "metadata": {},
   "source": [
    "# RMS selectobjects profile: \n",
    "\n",
    "I think for the rms reactor, the main loop that we will want to worry about is the one in EdgeAnalysis.jl, \"identify_objects\", line  676: \n",
    "\n",
    "```\n",
    "for i = 1:length(edgespeciesrateratios)\n",
    "    if @inbounds  edgespeciesrateratios[i] > maxedgespeciesrateratios[i]\n",
    "        @inbounds maxedgespeciesrateratios[i] = edgespeciesrateratios[i]\n",
    "    end\n",
    "end\n",
    "```\n",
    "\n",
    "this line iterates through all of the edge species. \n",
    "\n",
    "fyi rms reactors are in the rmgpy/rmg/reactors.py module. "
   ]
  },
  {
   "cell_type": "code",
   "execution_count": 3,
   "metadata": {},
   "outputs": [
    {
     "data": {
      "text/plain": [
       "\"/Users/blais.ch/Documents/_01_code/RMG_env_1/ReactionMechanismSimulator.jl/src/ReactionMechanismSimulator.jl\""
      ]
     },
     "execution_count": 3,
     "metadata": {},
     "output_type": "execute_result"
    }
   ],
   "source": [
    "pathof(ReactionMechanismSimulator)"
   ]
  },
  {
   "cell_type": "code",
   "execution_count": 1,
   "metadata": {
    "collapsed": true,
    "jupyter": {
     "outputs_hidden": true
    },
    "tags": []
   },
   "outputs": [],
   "source": [
    "using ReactionMechanismSimulator\n",
    "using Profile\n",
    "using PProf"
   ]
  },
  {
   "cell_type": "code",
   "execution_count": 2,
   "metadata": {
    "tags": []
   },
   "outputs": [
    {
     "name": "stderr",
     "output_type": "stream",
     "text": [
      "[17:05:45] WARNING: not removing hydrogen atom without neighbors\n",
      "[17:05:46] WARNING: not removing hydrogen atom without neighbors\n",
      "┌ Info: at time 0.0006143650423002915 sec, species [CH2]CCC at 0.03010496301839537 exceeded the minimum rate for simulation interruption of 0.03\n",
      "└ @ ReactionMechanismSimulator /Users/blais.ch/Documents/_01_code/RMG_env_1/ReactionMechanismSimulator.jl/src/EdgeAnalysis.jl:761\n",
      "┌ Info: At time 0.0006143650423002915 sec, species [CH2]CCC at rate ratio 0.03010496301839537 exceeded the minimum rate for moving to model core of 0.03\n",
      "└ @ ReactionMechanismSimulator /Users/blais.ch/Documents/_01_code/RMG_env_1/ReactionMechanismSimulator.jl/src/EdgeAnalysis.jl:932\n",
      "┌ Info: Terminating simulation due to interrupt\n",
      "└ @ ReactionMechanismSimulator /Users/blais.ch/Documents/_01_code/RMG_env_1/ReactionMechanismSimulator.jl/src/EdgeAnalysis.jl:955\n"
     ]
    },
    {
     "data": {
      "text/plain": [
       "(false, false, Any[Species{NASA{EmptyThermoUncertainty}, StokesDiffusivity{Float64}, EmptyHenryLawConstant, EmptyLiquidVolumetricMassTransferCoefficient}(\"[CH2]CCC\", 34, \"\", \"[CH2]CCC\", \"\", NASA{EmptyThermoUncertainty}\n",
       "  polys: Array{NASApolynomial}((2,))\n",
       "  unc: EmptyThermoUncertainty EmptyThermoUncertainty()\n",
       ", Dict(\"C\" => 4, \"H\" => 9), -1, StokesDiffusivity{Float64}\n",
       "  r: Float64 2.954725557827581e-10\n",
       ", 2.954725557827581e-10, 1, 0.05711600000000002, EmptyHenryLawConstant(), EmptyLiquidVolumetricMassTransferCoefficient(), \"\", false, false)], Bool[0, 0, 0, 0, 1, 1, 1, 1, 1, 1  …  1, 1, 1, 1, 1, 1, 1, 1, 1, 1], Bool[0 0 … 0 0; 0 0 … 0 0; … ; 0 0 … 0 0; 0 0 … 0 0], [0 0 … 0 0; 0 0 … 0 0; … ; 0 0 … 0 0; 0 0 … 0 0;;; 0 0 … 0 0; 0 0 … 0 0; … ; 0 0 … 0 0; 0 0 … 0 0;;; 0 0 … 0 0; 0 0 … 0 0; … ; 0 0 … 0 0; 0 0 … 0 0;;; … ;;; 0 0 … 0 0; 0 0 … 0 0; … ; 0 0 … 0 0; 0 0 … 0 0;;; 0 0 … 0 0; 0 0 … 0 0; … ; 0 0 … 0 0; 0 0 … 0 0;;; 0 0 … 0 0; 0 0 … 0 0; … ; 0 0 … 0 0; 0 0 … 0 0], [9.527674716087324e-5, 4.324728877113985e-6, 4.372166041457847e-6, 4.862524668142966e-7, 0.008338382347203669, 0.0025281837900404027, 8.359689751525151e-5, 0.03010496301839537, 0.002514321620245452, 2.904717356269077e-12  …  4.6373701335792976e-11, 3.8316569529429116e-14, 1.2129206052368958e-18, 1.6017336898477284e-7, 2.2229826049838625e-5, 3.2436664176964e-9, 7.931117126059956e-12, 5.375906378013341e-18, 3.413966211294581e-7, 5.444752010321001e-9], 0.0006143650423002915, 0.8153565950903148)"
      ]
     },
     "metadata": {},
     "output_type": "display_data"
    }
   ],
   "source": [
    "minimal_core = \"./rms_input/minimal.rms\"\n",
    "minimal_edge = \"./rms_input/minimal_edge.rms\"\n",
    "outcore = readinput(minimal_core)\n",
    "outedge = readinput(minimal_edge)\n",
    "Profile.clear()\n",
    "\n",
    "# minimal_core = \"../02_profiling_examples/minimal/chemkin/chem_annotated.inp\"\n",
    "# minimal_core_dict = \"../02_profiling_examples/minimal/chemkin/species_dictionary.txt\"\n",
    "# minimal_edge = \"../02_profiling_examples/minimal/chemkin/chem_edge_annotated.inp\"\n",
    "# minimal_core_dict = \"../02_profiling_examples/minimal/chemkin/species_edge_dictionary.txt\"\n",
    "# outcore = readinput(minimal_core;\n",
    "#               spcdict=minimal_core_dict)\n",
    "# outedge = readinput(minimal_edge;\n",
    "#               spcdict=minimal_edge_dict)\n",
    "corespcs = outcore[\"phase\"][\"Species\"]\n",
    "edgeishspcs = outedge[\"phase\"][\"Species\"]\n",
    "corerxns = outcore[\"phase\"][\"Reactions\"]\n",
    "edgeishrxns = outedge[\"phase\"][\"Reactions\"]\n",
    "coreedgespcs = copy(corespcs)\n",
    "\n",
    "index = length(coreedgespcs)\n",
    "for spc in edgeishspcs\n",
    "    if nothing === findfirst(x->x.name==spc.name,coreedgespcs)\n",
    "        newspc = Species(;name=spc.name,index=index+1,inchi=spc.inchi,smiles=spc.smiles,\n",
    "            adjlist=spc.adjlist,thermo=spc.thermo,atomnums=spc.atomnums,diffusion=spc.diffusion,\n",
    "            radius=spc.radius,radicalelectrons=spc.radicalelectrons,molecularweight=spc.molecularweight)\n",
    "        global index += 1\n",
    "        push!(coreedgespcs,newspc)\n",
    "    end\n",
    "end\n",
    "coreedgespcsnames = getfield.(coreedgespcs,:name)\n",
    "\n",
    "coreedgerxns = copy(corerxns)\n",
    "index = length(coreedgerxns)\n",
    "for rxn in edgeishrxns\n",
    "    out = findfirst(x->getrxnstr(x)==getrxnstr(rxn),coreedgerxns)\n",
    "    if nothing === out\n",
    "        inds = findall(x->getrxnstr(x)==getrxnstr(rxn),edgeishrxns)\n",
    "        for ind in inds\n",
    "            rxnout = edgeishrxns[ind]\n",
    "            reactants = [coreedgespcs[findfirst(x->spc.name==x,coreedgespcsnames)] for spc in rxnout.reactants]\n",
    "            products = [coreedgespcs[findfirst(x->spc.name==x,coreedgespcsnames)] for spc in rxnout.products]\n",
    "            reactantinds = [findfirst(x->spc.name==x,coreedgespcsnames) for spc in rxnout.reactants]\n",
    "            productinds = [findfirst(x->spc.name==x,coreedgespcsnames) for spc in rxnout.products]\n",
    "            newrxn = ElementaryReaction(;index=index+1,reactants=reactants,reactantinds=reactantinds,products=products,\n",
    "                productinds=productinds,kinetics=rxnout.kinetics,electronchange=rxnout.electronchange,\n",
    "                radicalchange=rxnout.radicalchange,reversible=rxnout.reversible,forwardable=rxnout.forwardable,pairs=rxnout.pairs)\n",
    "            push!(coreedgerxns,newrxn)\n",
    "        end\n",
    "    end\n",
    "end\n",
    "\n",
    "coregas = IdealGas(corespcs,corerxns);\n",
    "coreedgegas = IdealGas(coreedgespcs,coreedgerxns);\n",
    "\n",
    "initialconds = Dict([\"T\"=>1350.0,\"P\"=>1.0e5,\"ethane\"=>1.0]);\n",
    "spc = coregas.species[5] #ethane\n",
    "termination = [TerminationConversion(spc,0.9),TerminationTime(1e6)];\n",
    "coredomain,y0,corep = ConstantTPDomain(phase=coregas,initialconds=initialconds);\n",
    "react = Reactor(coredomain,y0,(0.0,1e6);p=corep);\n",
    "coreedgedomain,coreedgey0,coreedgep = ConstantTPDomain(phase=coreedgegas,initialconds=initialconds);\n",
    "reactedge = Reactor(coreedgedomain,coreedgey0,(0.0,1e6);p=coreedgep);\n",
    "@profile (terminated,resurrected,invalidobjects,unimolecularthreshold,bimolecularthreshold,trimolecularthreshold,maxedgespeciesrateratios) = selectobjects(react,reactedge,coreedgedomain,[],coredomain,\n",
    "    [],corep,coreedgep,0.03,Inf,0.03,false,true,5,0.005,1.0,1.0,true,termination,1.0e8,Dict(),20,Inf)\n",
    "\n",
    "# (terminated,resurrected,invalidobjects,unimolecularthreshold,bimolecularthreshold,trimolecularthreshold,maxedgespeciesrateratios) = selectobjects(react,reactedge,coreedgedomain,[],coredomain,\n",
    "#     [],corep,coreedgep,0.03,Inf,0.03,false,true,5,0.005,1.0,1.0,true,termination,1.0e8,Dict(),20,Inf)"
   ]
  },
  {
   "cell_type": "code",
   "execution_count": 3,
   "metadata": {},
   "outputs": [
    {
     "data": {
      "text/plain": [
       "\"profile.pb.gz\""
      ]
     },
     "metadata": {},
     "output_type": "display_data"
    },
    {
     "name": "stderr",
     "output_type": "stream",
     "text": [
      "Main binary filename not available.\n",
      "Serving web UI on http://localhost:57599\n",
      "pprof: listen tcp 127.0.0.1:57599: bind: address already in use\n"
     ]
    }
   ],
   "source": [
    "pprof()"
   ]
  },
  {
   "cell_type": "code",
   "execution_count": 5,
   "metadata": {},
   "outputs": [
    {
     "data": {
      "text/plain": [
       "(26, 201, 71, 462)"
      ]
     },
     "execution_count": 5,
     "metadata": {},
     "output_type": "execute_result"
    }
   ],
   "source": [
    "length(corespcs), length(edgeishspcs),  length(corerxns),  length(edgeishrxns)"
   ]
  },
  {
   "cell_type": "code",
   "execution_count": 11,
   "metadata": {},
   "outputs": [
    {
     "data": {
      "text/plain": [
       "\"profile.pb.gz\""
      ]
     },
     "execution_count": 11,
     "metadata": {},
     "output_type": "execute_result"
    },
    {
     "name": "stderr",
     "output_type": "stream",
     "text": [
      "Main binary filename not available.\n",
      "Serving web UI on http://localhost:57599\n"
     ]
    }
   ],
   "source": []
  },
  {
   "cell_type": "code",
   "execution_count": null,
   "metadata": {},
   "outputs": [],
   "source": []
  }
 ],
 "metadata": {
  "kernelspec": {
   "display_name": "Julia 1.9.1",
   "language": "julia",
   "name": "julia-1.9"
  },
  "language_info": {
   "file_extension": ".jl",
   "mimetype": "application/julia",
   "name": "julia",
   "version": "1.9.1"
  }
 },
 "nbformat": 4,
 "nbformat_minor": 4
}
