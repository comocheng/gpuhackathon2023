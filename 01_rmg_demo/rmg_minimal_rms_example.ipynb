{
 "cells": [
  {
   "cell_type": "markdown",
   "metadata": {},
   "source": [
    "I think for the rms reactor, the main loop that we will want to worry about is the one in EdgeAnalysis.jl, \"identify_objects\", line  676: \n",
    "\n",
    "```\n",
    "for i = 1:length(edgespeciesrateratios)\n",
    "    if @inbounds  edgespeciesrateratios[i] > maxedgespeciesrateratios[i]\n",
    "        @inbounds maxedgespeciesrateratios[i] = edgespeciesrateratios[i]\n",
    "    end\n",
    "end\n",
    "```\n",
    "\n",
    "this line iterates through all of the edge species. \n",
    "\n",
    "fyi rms reactors are in the rmgpy/rmg/reactors.py module. "
   ]
  },
  {
   "cell_type": "markdown",
   "metadata": {},
   "source": []
  }
 ],
 "metadata": {
  "language_info": {
   "name": "python"
  },
  "orig_nbformat": 4
 },
 "nbformat": 4,
 "nbformat_minor": 2
}
