{
 "cells": [
  {
   "cell_type": "markdown",
   "metadata": {},
   "source": [
    "# RMS selectobjects profile: \n",
    "\n",
    "I think for the rms reactor, the main loop that we will want to worry about is the one in EdgeAnalysis.jl, \"identify_objects\", line  676: \n",
    "\n",
    "```\n",
    "for i = 1:length(edgespeciesrateratios)\n",
    "    if @inbounds  edgespeciesrateratios[i] > maxedgespeciesrateratios[i]\n",
    "        @inbounds maxedgespeciesrateratios[i] = edgespeciesrateratios[i]\n",
    "    end\n",
    "end\n",
    "```\n",
    "\n",
    "this line iterates through all of the edge species. \n",
    "\n",
    "fyi rms reactors are in the rmgpy/rmg/reactors.py module. "
   ]
  },
  {
   "cell_type": "code",
   "execution_count": 1,
   "metadata": {},
   "outputs": [],
   "source": [
    "using ReactionMechanismSimulator"
   ]
  },
  {
   "cell_type": "code",
   "execution_count": null,
   "metadata": {},
   "outputs": [],
   "source": [
    "minimal_core = \"./rms_input/minimal.rms\"\n",
    "minimal_edge = \"./rms_input/minimal_edge.rms\"\n",
    "outcore = readinput(minimal_core)\n",
    "outedge = readinput(minimal_edge)\n",
    "corespcs = outcore[\"phase\"][\"Species\"]\n",
    "edgeishspcs = outedge[\"phase\"][\"Species\"]\n",
    "corerxns = outcore[\"phase\"][\"Reactions\"]\n",
    "edgeishrxns = outedge[\"phase\"][\"Reactions\"]\n",
    "\n",
    "coreedgespcs = copy(corespcs)\n",
    "index = length(coreedgespcs)\n",
    "for spc in edgeishspcs\n",
    "    if nothing === findfirst(x->x.name==spc.name,coreedgespcs)\n",
    "        newspc = Species(;name=spc.name,index=index+1,inchi=spc.inchi,smiles=spc.smiles,\n",
    "            adjlist=spc.adjlist,thermo=spc.thermo,atomnums=spc.atomnums,diffusion=spc.diffusion,\n",
    "            radius=spc.radius,radicalelectrons=spc.radicalelectrons,molecularweight=spc.molecularweight)\n",
    "        index += 1\n",
    "        push!(coreedgespcs,newspc)\n",
    "    end\n",
    "end\n",
    "coreedgespcsnames = getfield.(coreedgespcs,:name)\n",
    "\n",
    "coreedgerxns = copy(corerxns)\n",
    "index = length(coreedgerxns)\n",
    "for rxn in edgeishrxns\n",
    "    out = findfirst(x->getrxnstr(x)==getrxnstr(rxn),coreedgerxns)\n",
    "    if nothing === out\n",
    "        inds = findall(x->getrxnstr(x)==getrxnstr(rxn),edgeishrxns)\n",
    "        for ind in inds\n",
    "            rxnout = edgeishrxns[ind]\n",
    "            reactants = [coreedgespcs[findfirst(x->spc.name==x,coreedgespcsnames)] for spc in rxnout.reactants]\n",
    "            products = [coreedgespcs[findfirst(x->spc.name==x,coreedgespcsnames)] for spc in rxnout.products]\n",
    "            reactantinds = [findfirst(x->spc.name==x,coreedgespcsnames) for spc in rxnout.reactants]\n",
    "            productinds = [findfirst(x->spc.name==x,coreedgespcsnames) for spc in rxnout.products]\n",
    "            newrxn = ElementaryReaction(;index=index+1,reactants=reactants,reactantinds=reactantinds,products=products,\n",
    "                productinds=productinds,kinetics=rxnout.kinetics,electronchange=rxnout.electronchange,\n",
    "                radicalchange=rxnout.radicalchange,reversible=rxnout.reversible,forwardable=rxnout.forwardable,pairs=rxnout.pairs)\n",
    "            push!(coreedgerxns,newrxn)\n",
    "        end\n",
    "    end\n",
    "end\n",
    "\n",
    "coregas = IdealGas(corespcs,corerxns);\n",
    "coreedgegas = IdealGas(coreedgespcs,coreedgerxns);\n",
    "\n",
    "initialconds = Dict([\"T\"=>1350.0,\"P\"=>1.0e5,\"ethane\"=>1.0]);\n",
    "spc = coregas.species[5] #ethane\n",
    "termination = [TerminationConversion(spc,0.9),TerminationTime(1e6)];\n",
    "coredomain,y0,corep = ConstantTPDomain(phase=coregas,initialconds=initialconds);\n",
    "react = Reactor(coredomain,y0,(0.0,1e6);p=corep);\n",
    "coreedgedomain,coreedgey0,coreedgep = ConstantTPDomain(phase=coreedgegas,initialconds=initialconds);\n",
    "reactedge = Reactor(coreedgedomain,coreedgey0,(0.0,1e6);p=coreedgep);\n",
    "@profile (terminated,resurrected,invalidobjects,unimolecularthreshold,bimolecularthreshold,trimolecularthreshold,maxedgespeciesrateratios) = selectobjects(react,reactedge,coreedgedomain,[],coredomain,\n",
    "    [],corep,coreedgep,0.03,Inf,0.03,false,true,5,0.005,1.0,1.0,true,termination,1.0e8,Dict(),20,Inf)"
   ]
  },
  {
   "cell_type": "code",
   "execution_count": null,
   "metadata": {},
   "outputs": [],
   "source": [
    "Profile.print()"
   ]
  },
  {
   "cell_type": "code",
   "execution_count": null,
   "metadata": {},
   "outputs": [],
   "source": []
  },
  {
   "cell_type": "code",
   "execution_count": null,
   "metadata": {},
   "outputs": [],
   "source": []
  }
 ],
 "metadata": {
  "kernelspec": {
   "display_name": "Julia 1.9.1",
   "language": "julia",
   "name": "julia-1.9"
  },
  "language_info": {
   "file_extension": ".jl",
   "mimetype": "application/julia",
   "name": "julia",
   "version": "1.9.1"
  }
 },
 "nbformat": 4,
 "nbformat_minor": 4
}
