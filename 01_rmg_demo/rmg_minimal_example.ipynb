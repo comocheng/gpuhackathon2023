{
 "cells": [
  {
   "cell_type": "code",
   "execution_count": null,
   "metadata": {},
   "outputs": [],
   "source": [
    "import os\n",
    "from rmgpy.rmg.main import RMG, RMG_Memory, log_conditions"
   ]
  },
  {
   "cell_type": "markdown",
   "metadata": {},
   "source": [
    "## run an rmg model\n",
    "### 1. create a new rmg model from an input file"
   ]
  },
  {
   "cell_type": "code",
   "execution_count": null,
   "metadata": {},
   "outputs": [],
   "source": [
    "current_dir = os.path.abspath('')\n",
    "output_dir = os.path.join(current_dir, 'output')\n",
    "\n",
    "# # instantiate the profiler\n",
    "# rmg_profiler = cProfile.Profile()\n",
    "# stats_file = os.path.join(args.output_directory, 'RMG.profile')\n",
    "\n",
    "if not os.path.exists(output_dir):\n",
    "    os.makedirs(output_dir)\n",
    "\n",
    "input_file = 'input.py'\n",
    "\n",
    "with open(input_file, 'r') as f:\n",
    "    rmg_input = f.read()\n",
    "\n",
    "rmg_job = RMG(input_file=input_file, output_directory=output_dir)\n"
   ]
  },
  {
   "cell_type": "markdown",
   "metadata": {},
   "source": [
    "### 2. initialize job"
   ]
  },
  {
   "cell_type": "code",
   "execution_count": null,
   "metadata": {},
   "outputs": [],
   "source": [
    "rmg_job.initialize()\n",
    "\n",
    "# initialize rmg memories object \n",
    "rmg_job.rmg_memories = []\n",
    "\n",
    "# Initialize memory object to track conditions for ranged reactors\n",
    "rmg_job.rmg_memories.append(RMG_Memory(rmg_job.reaction_systems[0], rmg_job.balance_species))\n",
    "rmg_job.rmg_memories[0].generate_cond()\n",
    "log_conditions(rmg_job.rmg_memories, 0)\n"
   ]
  },
  {
   "cell_type": "markdown",
   "metadata": {},
   "source": [
    "### 3. expand model"
   ]
  },
  {
   "cell_type": "code",
   "execution_count": null,
   "metadata": {},
   "outputs": [],
   "source": [
    "# React core species to enlarge edge\n",
    "rmg_job.reaction_model.enlarge(react_edge=True,\n",
    "                            unimolecular_react=rmg_job.unimolecular_react,\n",
    "                            bimolecular_react=rmg_job.bimolecular_react,\n",
    "                            trimolecular_react=rmg_job.trimolecular_react)"
   ]
  },
  {
   "cell_type": "markdown",
   "metadata": {},
   "source": [
    "For the simple reactor, what we want to do first is identify what we want to parallelize. \n",
    "The first target is the core/edge enlargement routine, because it goes through all of the edge species in serial.\n",
    "\n",
    "the `simulate` routine is inherited from the `base` class for SimpleReactor. Within\n",
    "it, we can see that the  "
   ]
  },
  {
   "cell_type": "code",
   "execution_count": null,
   "metadata": {},
   "outputs": [],
   "source": [
    "model_settings = rmg_job.model_settings_list[0]\n",
    "simulator_settings = rmg_job.simulator_settings_list[0]\n",
    "terminated, resurrected, obj, new_surface_species, new_surface_reactions, t, x = rmg_job.reaction_systems[0].simulate(\n",
    "    core_species=rmg_job.reaction_model.core.species,\n",
    "    core_reactions=rmg_job.reaction_model.core.reactions,\n",
    "    edge_species=rmg_job.reaction_model.edge.species,\n",
    "    edge_reactions=rmg_job.reaction_model.edge.reactions,\n",
    "    surface_species=rmg_job.reaction_model.surface.species,\n",
    "    surface_reactions=rmg_job.reaction_model.surface.reactions,\n",
    "    pdep_networks=rmg_job.reaction_model.network_list,\n",
    "    prune=False,\n",
    "    model_settings=model_settings,\n",
    "    simulator_settings=simulator_settings,\n",
    "    conditions=rmg_job.rmg_memories[0].get_cond()\n",
    ")"
   ]
  },
  {
   "cell_type": "code",
   "execution_count": null,
   "metadata": {},
   "outputs": [],
   "source": [
    "obj"
   ]
  },
  {
   "cell_type": "code",
   "execution_count": null,
   "metadata": {},
   "outputs": [],
   "source": []
  },
  {
   "cell_type": "code",
   "execution_count": null,
   "metadata": {},
   "outputs": [],
   "source": [
    "new_surface_species, new_surface_reactions"
   ]
  },
  {
   "cell_type": "code",
   "execution_count": null,
   "metadata": {},
   "outputs": [],
   "source": [
    "type(rmg_job.reaction_systems[0])"
   ]
  },
  {
   "cell_type": "code",
   "execution_count": null,
   "metadata": {},
   "outputs": [],
   "source": []
  }
 ],
 "metadata": {
  "kernelspec": {
   "display_name": "rmg_env",
   "language": "python",
   "name": "python3"
  },
  "language_info": {
   "codemirror_mode": {
    "name": "ipython",
    "version": 3
   },
   "file_extension": ".py",
   "mimetype": "text/x-python",
   "name": "python",
   "nbconvert_exporter": "python",
   "pygments_lexer": "ipython3",
   "version": "3.7.12"
  },
  "orig_nbformat": 4
 },
 "nbformat": 4,
 "nbformat_minor": 2
}
