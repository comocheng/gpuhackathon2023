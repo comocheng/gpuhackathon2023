{
 "cells": [
  {
   "cell_type": "code",
   "execution_count": 24,
   "id": "c4ceb864-3753-4ac6-85df-d1ad59aca0be",
   "metadata": {},
   "outputs": [],
   "source": [
    "import os\n",
    "from rmgpy.rmg.main import RMG, RMG_Memory, log_conditions\n",
    "import rmgpy.chemkin\n",
    "from rmgpy.rmg.model import ReactionModel, CoreEdgeReactionModel"
   ]
  },
  {
   "cell_type": "markdown",
   "id": "b43ab7dd-bcf4-4114-9c55-0f49f8a682cb",
   "metadata": {},
   "source": [
    "1. Use minimal example for RMG job "
   ]
  },
  {
   "cell_type": "code",
   "execution_count": 21,
   "id": "b71551f3-2615-4c09-83e6-1f3ef19231ed",
   "metadata": {},
   "outputs": [],
   "source": [
    "#specify input file and output directory\n",
    "\n",
    "#CH4\n",
    "output_dir = './output'\n",
    "chemkin_file = './CH4/chem_annotated.inp'\n",
    "species_dict = './CH4/species_dictionary.txt'\n",
    "tran_file = './CH4/tran.dat'\n",
    "\n",
    "#minimal\n",
    "chemkin_file = './minimal/chem_annotated.inp'\n",
    "chemkin_file_edge = './minimal/chem_edge_annotated.inp'\n",
    "species_dict = './minimal/species_dictionary.txt'\n",
    "species_dict_edge = './minimal/species_edge_dictionary.txt'\n",
    "\n",
    "\n",
    "#load the chemkin file\n",
    "species, reactions = rmgpy.chemkin.load_chemkin_file(chemkin_file, dictionary_path=species_dict)\n",
    "\n",
    "species_edge, reactions_edge = rmgpy.chemkin.load_chemkin_file(chemkin_file_edge, dictionary_path=species_dict_edge)"
   ]
  },
  {
   "cell_type": "code",
   "execution_count": 22,
   "id": "674d0d7e-1227-4cdc-b78a-04afc3ce5871",
   "metadata": {},
   "outputs": [],
   "source": [
    "#initiate ReactionModel for core\n",
    "model=ReactionModel()\n",
    "\n",
    "#give it our species and reactions, this will be our \"core\"\n",
    "model.species, model.reactions = species, reactions "
   ]
  },
  {
   "cell_type": "code",
   "execution_count": 47,
   "id": "37a06910-319b-43c6-8e1f-61bc82f7c19d",
   "metadata": {},
   "outputs": [],
   "source": [
    "#let's make our edge and surface\n",
    "\n",
    "#I found out that C5H9(93) has only participates in only one reaction in the edge. Let's make that species and that reaction our surface species\n",
    "\n",
    "#pick out the species\n",
    "surface_species=[]\n",
    "species_edge_new = []\n",
    "for ind, spc in enumerate(species_edge):\n",
    "    if spc.index==93:\n",
    "        #make this our surface species\n",
    "        surface_species.append(spc)\n",
    "    else:\n",
    "        species_edge_new.append(spc)\n",
    "        \n",
    "#pick out the reaction\n",
    "surface_reactions=[]\n",
    "reactions_edge_new = []\n",
    "for ind, rxn in enumerate(reactions_edge):\n",
    "    if (surface_species[0] in rxn.products) or  (surface_species[0] in rxn.reactants):\n",
    "        surface_reactions.append(rxn)\n",
    "    else:\n",
    "        reactions_edge_new.append(rxn)\n",
    "        "
   ]
  },
  {
   "cell_type": "code",
   "execution_count": 48,
   "id": "ed473eb8-f32b-493d-a465-911cc3b8733d",
   "metadata": {},
   "outputs": [],
   "source": [
    "#initiate ReactionModel for edge\n",
    "model_edge=ReactionModel()\n",
    "\n",
    "#this will be our \"edge\"\n",
    "model_edge.species, model_edge.reactions = species_edge_new , reactions_edge_new  \n",
    "\n",
    "#initiate model for surface\n",
    "model_surface=ReactionModel()\n",
    "\n",
    "#this will be our surface\n",
    "model_surface.species, model_surface.reactions = surface_species , surface_reactions "
   ]
  },
  {
   "cell_type": "code",
   "execution_count": 57,
   "id": "4420e1a2-5ea0-4fe6-b246-0c966c5d9da4",
   "metadata": {},
   "outputs": [],
   "source": [
    "#combine into a CoreEdgeReactionModel\n",
    "\n",
    "core_edge_model = CoreEdgeReactionModel(core=model, edge=model_edge, surface=model_surface)"
   ]
  },
  {
   "cell_type": "code",
   "execution_count": null,
   "id": "b21d8050-cec0-4576-8af7-ea02e0bfc2a0",
   "metadata": {},
   "outputs": [],
   "source": [
    "#now enlarge\n",
    "# core_edge_model.enlarge(model_surface.species[0])\n",
    "core_edge_model.enlarge(react_edge=True)\n"
   ]
  }
 ],
 "metadata": {
  "kernelspec": {
   "display_name": "rmg_env",
   "language": "python",
   "name": "rmg_env"
  },
  "language_info": {
   "codemirror_mode": {
    "name": "ipython",
    "version": 3
   },
   "file_extension": ".py",
   "mimetype": "text/x-python",
   "name": "python",
   "nbconvert_exporter": "python",
   "pygments_lexer": "ipython3",
   "version": "3.7.16"
  }
 },
 "nbformat": 4,
 "nbformat_minor": 5
}
